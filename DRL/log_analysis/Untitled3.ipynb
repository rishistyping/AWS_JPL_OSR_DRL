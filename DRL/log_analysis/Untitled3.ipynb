{
 "cells": [
  {
   "cell_type": "code",
   "execution_count": 6,
   "metadata": {},
   "outputs": [],
   "source": [
    "TARGET_NUMBER_STEPS = 100\n",
    "g_last_progress_value = 0.0\n",
    "\n",
    "def progress_since_last(progress):\n",
    "  global g_last_progress_value\n",
    "  # progress is 0..100. The logic in DR environment code ensures this always\n",
    "  # increases for the episode, regardless if the car is going backward.\n",
    "  if g_last_progress_value > progress:\n",
    "    g_last_progress_value = 0\n",
    "  progress_factor = (progress - g_last_progress_value) / 100 # divide by 100 to get percentage of track\n",
    "  g_last_progress_value = progress\n",
    "  return progress_factor\n",
    "\n",
    "def progress_target(progress):\n",
    "  global g_last_progress_value\n",
    "  # delta is percentage of track covered\n",
    "  delta = progress_since_last(progress)\n",
    "  progress_target_per_step = 1 / TARGET_NUMBER_STEPS # use 1 instead of 100 to match progress_since_last magnitude\n",
    "  progress_factor = delta / progress_target_per_step\n",
    "  return progress_factor"
   ]
  },
  {
   "cell_type": "code",
   "execution_count": 14,
   "metadata": {},
   "outputs": [
    {
     "name": "stdout",
     "output_type": "stream",
     "text": [
      "target:  0.01\n"
     ]
    },
    {
     "data": {
      "text/plain": [
       "2.0"
      ]
     },
     "execution_count": 14,
     "metadata": {},
     "output_type": "execute_result"
    }
   ],
   "source": [
    "progress_target_per_step = 1 / TARGET_NUMBER_STEPS # use 1 instead of 100 to match progress_since_last magnitude\n",
    "print('target: ', progress_target_per_step)\n",
    "g_last_progress_value = 20.0\n",
    "progress_target(22.0)\n",
    "\n",
    "# This effectively just returns the progress delta as the reward"
   ]
  },
  {
   "cell_type": "code",
   "execution_count": null,
   "metadata": {},
   "outputs": [],
   "source": []
  }
 ],
 "metadata": {
  "kernelspec": {
   "display_name": "Python 3",
   "language": "python",
   "name": "python3"
  },
  "language_info": {
   "codemirror_mode": {
    "name": "ipython",
    "version": 3
   },
   "file_extension": ".py",
   "mimetype": "text/x-python",
   "name": "python",
   "nbconvert_exporter": "python",
   "pygments_lexer": "ipython3",
   "version": "3.7.4"
  }
 },
 "nbformat": 4,
 "nbformat_minor": 2
}
