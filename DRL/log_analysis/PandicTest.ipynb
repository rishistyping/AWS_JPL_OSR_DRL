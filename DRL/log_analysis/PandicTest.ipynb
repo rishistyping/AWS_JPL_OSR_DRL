{
 "cells": [
  {
   "cell_type": "markdown",
   "metadata": {},
   "source": [
    "# Pandasticsearch Test\n",
    "\n",
    "This is to test using pandas to query data out of an ELK stack"
   ]
  },
  {
   "cell_type": "code",
   "execution_count": 1,
   "metadata": {},
   "outputs": [],
   "source": [
    "import pandas as pd\n",
    "import pandasticsearch as pds\n"
   ]
  },
  {
   "cell_type": "code",
   "execution_count": 22,
   "metadata": {
    "scrolled": false
   },
   "outputs": [],
   "source": [
    "es_url = 'http://cluck-nyc:9200'\n",
    "df = pds.DataFrame.from_es(url=es_url, index='kibana_sample_data_flights', doc_type='mapping_name', compat=7)"
   ]
  },
  {
   "cell_type": "code",
   "execution_count": 23,
   "metadata": {},
   "outputs": [
    {
     "name": "stdout",
     "output_type": "stream",
     "text": [
      "kibana_sample_data_flights\n",
      "  |--AvgTicketPrice: {'type': 'float'}\n",
      "  |--Cancelled: {'type': 'boolean'}\n",
      "  |--Carrier: {'type': 'keyword'}\n",
      "  |--Dest: {'type': 'keyword'}\n",
      "  |--DestAirportID: {'type': 'keyword'}\n",
      "  |--DestCityName: {'type': 'keyword'}\n",
      "  |--DestCountry: {'type': 'keyword'}\n",
      "  |--DestLocation: {'type': 'geo_point'}\n",
      "  |--DestRegion: {'type': 'keyword'}\n",
      "  |--DestWeather: {'type': 'keyword'}\n",
      "  |--DistanceKilometers: {'type': 'float'}\n",
      "  |--DistanceMiles: {'type': 'float'}\n",
      "  |--FlightDelay: {'type': 'boolean'}\n",
      "  |--FlightDelayMin: {'type': 'integer'}\n",
      "  |--FlightDelayType: {'type': 'keyword'}\n",
      "  |--FlightNum: {'type': 'keyword'}\n",
      "  |--FlightTimeHour: {'type': 'keyword'}\n",
      "  |--FlightTimeMin: {'type': 'float'}\n",
      "  |--Origin: {'type': 'keyword'}\n",
      "  |--OriginAirportID: {'type': 'keyword'}\n",
      "  |--OriginCityName: {'type': 'keyword'}\n",
      "  |--OriginCountry: {'type': 'keyword'}\n",
      "  |--OriginLocation: {'type': 'geo_point'}\n",
      "  |--OriginRegion: {'type': 'keyword'}\n",
      "  |--OriginWeather: {'type': 'keyword'}\n",
      "  |--dayOfWeek: {'type': 'integer'}\n",
      "  |--timestamp: {'type': 'date'}\n"
     ]
    }
   ],
   "source": [
    "df.print_schema()"
   ]
  },
  {
   "cell_type": "code",
   "execution_count": 24,
   "metadata": {},
   "outputs": [
    {
     "data": {
      "text/plain": [
       "['AvgTicketPrice',\n",
       " 'Cancelled',\n",
       " 'Carrier',\n",
       " 'Dest',\n",
       " 'DestAirportID',\n",
       " 'DestCityName',\n",
       " 'DestCountry',\n",
       " 'DestLocation',\n",
       " 'DestRegion',\n",
       " 'DestWeather',\n",
       " 'DistanceKilometers',\n",
       " 'DistanceMiles',\n",
       " 'FlightDelay',\n",
       " 'FlightDelayMin',\n",
       " 'FlightDelayType',\n",
       " 'FlightNum',\n",
       " 'FlightTimeHour',\n",
       " 'FlightTimeMin',\n",
       " 'Origin',\n",
       " 'OriginAirportID',\n",
       " 'OriginCityName',\n",
       " 'OriginCountry',\n",
       " 'OriginLocation',\n",
       " 'OriginRegion',\n",
       " 'OriginWeather',\n",
       " 'dayOfWeek',\n",
       " 'timestamp']"
      ]
     },
     "execution_count": 24,
     "metadata": {},
     "output_type": "execute_result"
    }
   ],
   "source": [
    "df.columns"
   ]
  },
  {
   "cell_type": "code",
   "execution_count": 27,
   "metadata": {},
   "outputs": [
    {
     "data": {
      "text/plain": [
       "<pandasticsearch.types.Column at 0x1170f8b90>"
      ]
     },
     "execution_count": 27,
     "metadata": {},
     "output_type": "execute_result"
    }
   ],
   "source": [
    "df.Dest"
   ]
  },
  {
   "cell_type": "code",
   "execution_count": 28,
   "metadata": {},
   "outputs": [
    {
     "data": {
      "text/plain": [
       "<pandasticsearch.types.Column at 0x1170f8510>"
      ]
     },
     "execution_count": 28,
     "metadata": {},
     "output_type": "execute_result"
    }
   ],
   "source": [
    "df['Origin']"
   ]
  },
  {
   "cell_type": "code",
   "execution_count": 33,
   "metadata": {},
   "outputs": [
    {
     "ename": "AttributeError",
     "evalue": "'DataFrame' object has no attribute 'ilookup'",
     "output_type": "error",
     "traceback": [
      "\u001b[0;31m---------------------------------------------------------------------------\u001b[0m",
      "\u001b[0;31mAttributeError\u001b[0m                            Traceback (most recent call last)",
      "\u001b[0;32m<ipython-input-33-c311c9c1b50b>\u001b[0m in \u001b[0;36m<module>\u001b[0;34m\u001b[0m\n\u001b[0;32m----> 1\u001b[0;31m \u001b[0mdf\u001b[0m\u001b[0;34m.\u001b[0m\u001b[0milookup\u001b[0m\u001b[0;34m[\u001b[0m\u001b[0;36m0\u001b[0m\u001b[0;34m]\u001b[0m\u001b[0;34m\u001b[0m\u001b[0;34m\u001b[0m\u001b[0m\n\u001b[0m",
      "\u001b[0;32m/usr/local/lib/python3.7/site-packages/pandasticsearch/dataframe.py\u001b[0m in \u001b[0;36m__getattr__\u001b[0;34m(self, name)\u001b[0m\n\u001b[1;32m    124\u001b[0m         \u001b[0;32mif\u001b[0m \u001b[0mname\u001b[0m \u001b[0;32mnot\u001b[0m \u001b[0;32min\u001b[0m \u001b[0mself\u001b[0m\u001b[0;34m.\u001b[0m\u001b[0mcolumns\u001b[0m\u001b[0;34m:\u001b[0m\u001b[0;34m\u001b[0m\u001b[0;34m\u001b[0m\u001b[0m\n\u001b[1;32m    125\u001b[0m             raise AttributeError(\n\u001b[0;32m--> 126\u001b[0;31m                 \"'%s' object has no attribute '%s'\" % (self.__class__.__name__, name))\n\u001b[0m\u001b[1;32m    127\u001b[0m         \u001b[0;32mreturn\u001b[0m \u001b[0mColumn\u001b[0m\u001b[0;34m(\u001b[0m\u001b[0mname\u001b[0m\u001b[0;34m)\u001b[0m\u001b[0;34m\u001b[0m\u001b[0;34m\u001b[0m\u001b[0m\n\u001b[1;32m    128\u001b[0m \u001b[0;34m\u001b[0m\u001b[0m\n",
      "\u001b[0;31mAttributeError\u001b[0m: 'DataFrame' object has no attribute 'ilookup'"
     ]
    }
   ],
   "source": []
  },
  {
   "cell_type": "code",
   "execution_count": null,
   "metadata": {},
   "outputs": [],
   "source": []
  }
 ],
 "metadata": {
  "kernelspec": {
   "display_name": "Python 3",
   "language": "python",
   "name": "python3"
  },
  "language_info": {
   "codemirror_mode": {
    "name": "ipython",
    "version": 3
   },
   "file_extension": ".py",
   "mimetype": "text/x-python",
   "name": "python",
   "nbconvert_exporter": "python",
   "pygments_lexer": "ipython3",
   "version": "3.7.4"
  }
 },
 "nbformat": 4,
 "nbformat_minor": 2
}
