{
 "cells": [
  {
   "cell_type": "markdown",
   "metadata": {},
   "source": [
    "# DeepRacer 2020 Log Analysis\n",
    "\n",
    "This is a fresh start of the log analysis notebook targeted at the latest \"V2\" updates for DeepRacer, including head-to-head, obstacles, and time trial race modes."
   ]
  },
  {
   "cell_type": "code",
   "execution_count": 1,
   "metadata": {},
   "outputs": [],
   "source": [
    "from log_analysis import *\n",
    "import cw_utils"
   ]
  },
  {
   "cell_type": "code",
   "execution_count": 4,
   "metadata": {},
   "outputs": [
    {
     "name": "stdout",
     "output_type": "stream",
     "text": [
      "{'logGroupName': '/aws/robomaker/SimulationJobs', 'logStreamNamePrefix': 'sim-ysf5xdm76fpz/2019-12-02T16-39-39.194Z_7adcc1a6-87ca-43de-95ae-89cd8a0da0b0/SimulationApplicationLogs', 'limit': 10000, 'startTime': 1451490400000, 'endTime': 2000000000000}\n"
     ]
    }
   ],
   "source": [
    "# CloudWatch logs for DeepRacer console training sessions\n",
    "s3_bucket='aws-deepracer-b6c3c104-eef5-4878-a257-d981cd204d62'\n",
    "\n",
    "\n",
    "# job arn - arn:aws:robomaker:us-east-1:345864641105:simulation-job/sim-6p3gg7mng1bm\n",
    "# Console name \"v2-updates-2-head-2-head\"\n",
    "# YAML config training_params_a4f2102c-a1f6-4844-b4cd-a5be6b54b1c9.yaml\n",
    "#sim_id='sim-6p3gg7mng1bm'\n",
    "#stream_name='sim-6p3gg7mng1bm/2019-12-02T17-13-20.363Z_bcb731e0-2606-4bcd-9183-667b92082368/SimulationApplicationLogs'\n",
    "\n",
    "# job arn - arn:aws:robomaker:us-east-1:345864641105:simulation-job/sim-vhmk9n1xt7h9\n",
    "# Console name \"v2-updates-2-objects\"\n",
    "# YAML config training_params_1551342e-3af9-4248-96df-e3fb44a3fbc7.yaml\n",
    "#sim_id='sim-vhmk9n1xt7h9'\n",
    "#stream_name='sim-vhmk9n1xt7h9/2019-12-02T16-40-43.390Z_6ee15c37-6bb3-4884-b43c-8cf665a5e214/SimulationApplicationLogs'\n",
    "\n",
    "# job arn - arn:aws:robomaker:us-east-1:345864641105:simulation-job/sim-ysf5xdm76fpz\n",
    "# console name \"v2-updates-2-time-trial\"\n",
    "# YAML config training_params_d0d865dc-c1fb-4a85-b7f0-3609319c1fe9.yaml\n",
    "sim_id='sim-ysf5xdm76fpz'\n",
    "stream_name='sim-ysf5xdm76fpz/2019-12-02T16-39-39.194Z_7adcc1a6-87ca-43de-95ae-89cd8a0da0b0/SimulationApplicationLogs'\n",
    "\n",
    "\n",
    "# ==== NOT DOWNLOADED ====\n",
    "# job arn - arn:aws:robomaker:us-east-1:345864641105:simulation-job/sim-8dty9cvgzcmv\n",
    "# console name \"v2-updates\"\n",
    "# YAML config training_params_2094cd90-d12a-41e0-a93c-9edeb51c3f79.yaml\n",
    "#sim_id='sim-8dty9cvgzcmv'\n",
    "#stream_name=''\n",
    "\n",
    "# RoboMaker training and evaluation jobs\n",
    "log_group = '/aws/robomaker/SimulationJobs'\n",
    "# SageMaker training jobs\n",
    "#log_group = '/aws/sagemaker/TrainingJobs'\n",
    "# DeepRacer submission jobs\n",
    "#log_group = '/aws/deepracer/leaderboard/SimulationJobs'\n",
    "\n",
    "\n",
    "fname = 'logs/deepracer-%s.log' % sim_id\n",
    "cw_utils.download_log(fname, stream_prefix=stream_name, log_group=log_group)\n"
   ]
  },
  {
   "cell_type": "code",
   "execution_count": null,
   "metadata": {},
   "outputs": [],
   "source": []
  }
 ],
 "metadata": {
  "kernelspec": {
   "display_name": "Python 3",
   "language": "python",
   "name": "python3"
  },
  "language_info": {
   "codemirror_mode": {
    "name": "ipython",
    "version": 3
   },
   "file_extension": ".py",
   "mimetype": "text/x-python",
   "name": "python",
   "nbconvert_exporter": "python",
   "pygments_lexer": "ipython3",
   "version": "3.7.4"
  }
 },
 "nbformat": 4,
 "nbformat_minor": 2
}
